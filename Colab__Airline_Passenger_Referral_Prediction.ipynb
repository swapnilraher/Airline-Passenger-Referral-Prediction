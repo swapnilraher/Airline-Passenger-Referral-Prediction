{
  "nbformat": 4,
  "nbformat_minor": 0,
  "metadata": {
    "colab": {
      "provenance": [],
      "authorship_tag": "ABX9TyO6obdWnJG8YzitjdGTw1U/",
      "include_colab_link": true
    },
    "kernelspec": {
      "name": "python3",
      "display_name": "Python 3"
    },
    "language_info": {
      "name": "python"
    }
  },
  "cells": [
    {
      "cell_type": "markdown",
      "metadata": {
        "id": "view-in-github",
        "colab_type": "text"
      },
      "source": [
        "<a href=\"https://colab.research.google.com/github/swapnilraher/Airline-Passenger-Referral-Prediction/blob/main/Colab__Airline_Passenger_Referral_Prediction.ipynb\" target=\"_parent\"><img src=\"https://colab.research.google.com/assets/colab-badge.svg\" alt=\"Open In Colab\"/></a>"
      ]
    },
    {
      "cell_type": "markdown",
      "metadata": {
        "id": "tOGC-qoyhJeX"
      },
      "source": [
        "# **Project Title : Airline Passenger Referral Prediction**"
      ]
    },
    {
      "cell_type": "markdown",
      "metadata": {
        "id": "6HZSfL_TeFBb"
      },
      "source": [
        "## Project Type - Classification\n"
      ]
    },
    {
      "cell_type": "markdown",
      "metadata": {
        "id": "Mvu7UG_LfCsL"
      },
      "source": [
        "# **GitHub Repo link** \n",
        "\n",
        "**1.Swapnil Aher :**\n",
        "\n",
        "https://github.com/swapnilraher/Airline-Passenger-Referral-Prediction \n",
        "\n"
      ]
    },
    {
      "cell_type": "markdown",
      "metadata": {
        "id": "oRvltFwNeNO1"
      },
      "source": [
        "# **Project Summary -**\n",
        "\n",
        "\n",
        " \"Airline-Passenger-Referral-Prediction\" is a machine learning project that aims to predict the likelihood of a referred passenger booking a flight based on historical data. The project is designed to help airlines optimize their marketing strategies and increase their customer base by predicting passenger referral behavior. The project uses a combination of data exploration, feature engineering, and model building techniques to achieve its goal.\n",
        "\n",
        "The data for the project was obtained from historical records of an airline's passenger referrals. The project uses a range of machine learning algorithms, including logistic regression, random forest, KNN, and XGBoost, to model the data and make predictions. Hyperparameters were tuned using GridSearchCV cross-validation, and LIME and SHAP methods were implemented to interpret the model's feature importance.\n",
        "\n",
        "The project's code and documentation are hosted on GitHub, making it open-source and encouraging collaboration from data scientists and developers worldwide. The project's main challenge was dealing with highly imbalanced data, and it uses SMOTE to balance the target variable for model building.\n",
        "\n",
        "Overall, the \"Airline-Passenger-Referral-Prediction\" project demonstrates the practical application of machine learning in the airline industry and highlights the importance of accurate predictions in marketing strategies. The project's open-source nature makes it accessible for other companies to use and build upon.\n",
        "\n",
        "\n"
      ]
    },
    {
      "cell_type": "markdown",
      "source": [
        "\n",
        "##**Objective**\n",
        "\n",
        "**The main objective is to predict whether passengers will refer the airline to their family or friends**.\n"
      ],
      "metadata": {
        "id": "7puSmi4_Ool-"
      }
    },
    {
      "cell_type": "markdown",
      "metadata": {
        "id": "Y06xIdG26kRF"
      },
      "source": [
        "## <b> Problem Statement </b>\n",
        "\n",
        "### The data is related with direct marketing campaigns (phone calls) of a Portuguese banking institution. The marketing campaigns were based on phone calls. Often, more than one contact to the same client was required, in order to access if the product (bank term deposit) would be ('yes') or not ('no') subscribed. The classification goal is to predict if the client will subscribe a term deposit (variable y).\n"
      ]
    },
    {
      "cell_type": "markdown",
      "metadata": {
        "id": "yzJcHr-f8OoT"
      },
      "source": [
        "#**Data includes airline reviews from 2006 to 2019 for popular airlines around the world withmultiple choice and free text questions. Data is scraped in Spring 2019. The main objectiveis to predict whether passengers will refer the airline to their friends.**"
      ]
    },
    {
      "cell_type": "markdown",
      "source": [
        "**Feature descriptions briefly as follows:**\n",
        "\n",
        "**airline:** Name of the airline.\n",
        "\n",
        "**overall:** Overall point is given to the trip between 1 to 10.\n",
        "\n",
        "**author:** Author of the trip\n",
        "\n",
        "**review date:** Date of the Review\n",
        "\n",
        "**customer review:**Review of the customers in free text format\n",
        "\n",
        "**aircraft:** Type of the aircraft\n",
        "\n",
        "**traveller type:** Type of traveler (e.g. business, leisure)\n",
        "\n",
        "**cabin:** Cabin at the flight date flown: Flight date\n",
        "\n",
        "**seat comfort:** Rated between 1-5\n",
        "\n",
        "**cabin service:** Rated between 1-5\n",
        "\n",
        "**foodbev:** Rated between 1-5 \n",
        "\n",
        "**entertainment:** Rated between 1-5\n",
        "\n",
        "**ground service:** Rated between 1-5\n",
        "\n",
        "**value for money:** Rated between 1-5\n",
        "\n",
        "**recommended:** Binary, target variable."
      ],
      "metadata": {
        "id": "Y-wNkmKvZWWF"
      }
    },
    {
      "cell_type": "markdown",
      "metadata": {
        "id": "AlLxAtlziMbP"
      },
      "source": [
        "## <b> Data Description </b>\n",
        "\n",
        "## <b>Input variables: </b>\n",
        "### <b> Bank Client data: </b>\n",
        "\n",
        "* ### age (numeric)\n",
        "* ### job : type of job (categorical: 'admin.','blue-collar','entrepreneur','housemaid','management','retired','self-employed','services','student','technician','unemployed','unknown')\n",
        "* ### marital : marital status (categorical: 'divorced','married','single','unknown'; note: 'divorced' means divorced or widowed)\n",
        "* ### education (categorical: 'basic.4y','basic.6y','basic.9y','high.school','illiterate','professional.course','university.degree','unknown')\n",
        "* ### default: has credit in default? (categorical: 'no','yes','unknown')\n",
        "* ### housing: has housing loan? (categorical: 'no','yes','unknown')\n",
        "* ### loan: has personal loan? (categorical: 'no','yes','unknown')\n",
        "\n",
        "### <b> Related with the last contact of the current campaign:</b>\n",
        "* ### contact: contact communication type (categorical: 'cellular','telephone')\n",
        "* ### month: last contact month of year (categorical: 'jan', 'feb', 'mar', ..., 'nov', 'dec')\n",
        "* ### day_of_week: last contact day of the week (categorical: 'mon','tue','wed','thu','fri')\n",
        "* ### duration: last contact duration, in seconds (numeric). Important note: this attribute highly affects the output target (e.g., if duration=0 then y='no'). Yet, the duration is not known before a call is performed. Also, after the end of the call y is obviously known. Thus, this input should only be included for benchmark purposes and should be discarded if the intention is to have a realistic predictive model.\n",
        "\n",
        "### <b>Other attributes: </b>\n",
        "* ### campaign: number of contacts performed during this campaign and for this client (numeric, includes last contact)\n",
        "* ### pdays: number of days that passed by after the client was last contacted from a previous campaign (numeric; 999 means client was not previously contacted)\n",
        "* ### previous: number of contacts performed before this campaign and for this client (numeric)\n",
        "* ### poutcome: outcome of the previous marketing campaign (categorical: 'failure','nonexistent','success')\n",
        "\n",
        "\n",
        "### <b>Output variable (desired target):</b>\n",
        "* ### y - has the client subscribed a term deposit? (binary: 'yes','no')"
      ]
    },
    {
      "cell_type": "markdown",
      "source": [
        "\n",
        "##**Objective**\n",
        "\n",
        "**The main objective is to predict whether passengers will refer the airline to their family or friends**.\n"
      ],
      "metadata": {
        "id": "lZ-T-dVRKB53"
      }
    },
    {
      "cell_type": "markdown",
      "metadata": {
        "id": "7_qeHcRPJ2v_"
      },
      "source": [
        "# **Loading Dataset and Importing Modules**\n"
      ]
    },
    {
      "cell_type": "code",
      "execution_count": 1,
      "metadata": {
        "id": "-ifL_U7RYhpS"
      },
      "outputs": [],
      "source": [
        "# Importing necessary libraries\n",
        "import numpy as np\n",
        "import pandas as pd\n",
        "import matplotlib.pyplot as plt\n",
        "import seaborn as sns\n",
        "\n",
        "%matplotlib inline\n",
        "\n",
        "import lightgbm\n",
        "\n",
        "import warnings\n",
        "warnings.filterwarnings('ignore')"
      ]
    },
    {
      "cell_type": "code",
      "source": [
        "# Importing all models from sklearn to be used in our model building\n",
        "from sklearn.linear_model import LogisticRegression\n",
        "from sklearn.ensemble import RandomForestClassifier\n",
        "from sklearn.tree import DecisionTreeClassifier\n",
        "from sklearn.neighbors import KNeighborsClassifier\n",
        "from sklearn.preprocessing import LabelEncoder\n",
        "from sklearn.svm import SVC\n",
        "from sklearn.naive_bayes import GaussianNB\n",
        "\n",
        "from sklearn import model_selection\n",
        "from sklearn.model_selection import train_test_split\n",
        "from sklearn.model_selection import GridSearchCV\n",
        "from sklearn.svm import LinearSVC\n",
        "import time\n",
        "from statsmodels.stats.outliers_influence import variance_inflation_factor\n",
        "from sklearn.naive_bayes import MultinomialNB"
      ],
      "metadata": {
        "id": "saWiC-4wMtor"
      },
      "execution_count": 2,
      "outputs": []
    },
    {
      "cell_type": "code",
      "source": [
        "# Importing  metrics for evaluation for our models\n",
        "from sklearn import metrics\n",
        "from sklearn.metrics import classification_report,confusion_matrix\n",
        "from sklearn.metrics import accuracy_score,precision_score\n",
        "from sklearn.metrics import recall_score,f1_score,roc_curve, roc_auc_score"
      ],
      "metadata": {
        "id": "hgOq-ukiMP7Y"
      },
      "execution_count": 3,
      "outputs": []
    },
    {
      "cell_type": "markdown",
      "source": [
        "##**Reading the Dataset**"
      ],
      "metadata": {
        "id": "ebMUDEWmdVfl"
      }
    },
    {
      "cell_type": "code",
      "execution_count": null,
      "metadata": {
        "colab": {
          "base_uri": "https://localhost:8080/"
        },
        "id": "2_gcu8LqAAH6",
        "outputId": "04b74f59-0860-48eb-b4c8-1f282ed714dc"
      },
      "outputs": [
        {
          "output_type": "stream",
          "name": "stdout",
          "text": [
            "Drive already mounted at /content/drive; to attempt to forcibly remount, call drive.mount(\"/content/drive\", force_remount=True).\n"
          ]
        }
      ],
      "source": [
        "#importing the dataset from drive\n",
        "from google.colab import drive\n",
        "drive.mount('/content/drive')"
      ]
    },
    {
      "cell_type": "code",
      "execution_count": null,
      "metadata": {
        "id": "1XDc3wxGAhO0"
      },
      "outputs": [],
      "source": [
        "#load the dataset from drive \n",
        "airline_df = pd.read_excel('/content/drive/MyDrive/3) Airlines Passengers Referral Prediction_Capstone_Project/data_airline_reviews.xlsx')"
      ]
    }
  ]
}